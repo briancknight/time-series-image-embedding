{
 "cells": [
  {
   "cell_type": "code",
   "execution_count": 2,
   "id": "d13b559f",
   "metadata": {
    "ExecuteTime": {
     "end_time": "2021-11-17T20:40:05.535162Z",
     "start_time": "2021-11-17T20:40:05.222103Z"
    }
   },
   "outputs": [],
   "source": [
    "import numpy as np\n",
    "import time\n",
    "import read_airbus_data"
   ]
  },
  {
   "cell_type": "code",
   "execution_count": 3,
   "id": "df54cff2",
   "metadata": {
    "ExecuteTime": {
     "end_time": "2021-11-17T20:40:07.854986Z",
     "start_time": "2021-11-17T20:40:06.103012Z"
    }
   },
   "outputs": [],
   "source": [
    "t_data, v_data = read_airbus_data.read_airbus_data()"
   ]
  },
  {
   "cell_type": "code",
   "execution_count": 4,
   "id": "53ce8917",
   "metadata": {
    "ExecuteTime": {
     "end_time": "2021-11-17T20:40:07.863684Z",
     "start_time": "2021-11-17T20:40:07.857122Z"
    }
   },
   "outputs": [],
   "source": [
    "def gray_scale_encoding(X, params={}):\n",
    "\tif params == {}:\n",
    "\t\t# default parameters\n",
    "\t\tparams = {\n",
    "\t\t's':8, \n",
    "\t\t'P':255, \n",
    "\t\t'K': 64, \n",
    "\t\t'UB': np.max(X), \n",
    "\t\t'LB': np.min(X),\n",
    "\t\t'round':True }\n",
    "\n",
    "\t# assign parameters\n",
    "\ts = params['s']\n",
    "\tP = params['P']\n",
    "\tK = params['K']\n",
    "\tUB = params['UB']\n",
    "\tLB = params['LB']\n",
    "\tC = 1/(UB - LB)\n",
    "\tim = np.zeros((K,K))\n",
    "\n",
    "\tif params['round']: # round\n",
    "\t\tfor i in range(K):\n",
    "\t\t\tfor j in range(K):\n",
    "\t\t\t\tim[i,j] = np.round(\n",
    "\t\t\t\t\tP*(X[(i - 1)*s + j] - LB)*C)\n",
    "\n",
    "\telse: # don't round\n",
    "\t\tfor i in range(K):\n",
    "\t\t\tfor j in range(K):\n",
    "\t\t\t\tim[i,j] = P*(X[(i - 1)*s + j] - LB)*C\n",
    "\n",
    "\treturn im"
   ]
  },
  {
   "cell_type": "code",
   "execution_count": 5,
   "id": "2cf2f6a4",
   "metadata": {
    "ExecuteTime": {
     "end_time": "2021-11-17T20:40:10.771562Z",
     "start_time": "2021-11-17T20:40:09.838775Z"
    }
   },
   "outputs": [
    {
     "name": "stdout",
     "output_type": "stream",
     "text": [
      "21.497825407505445 -22.886807811081734\n"
     ]
    },
    {
     "data": {
      "image/png": "[encoded data removed]",
      "text/plain": [
       "<Figure size 432x288 with 1 Axes>"
      ]
     },
     "metadata": {
      "needs_background": "light"
     },
     "output_type": "display_data"
    },
    {
     "data": {
      "image/png": "[encoded data removed]",
      "text/plain": [
       "<Figure size 432x288 with 1 Axes>"
      ]
     },
     "metadata": {
      "needs_background": "light"
     },
     "output_type": "display_data"
    },
    {
     "name": "stdout",
     "output_type": "stream",
     "text": [
      "1.0\n",
      "0.0\n"
     ]
    },
    {
     "data": {
      "image/png": "[encoded data removed]",
      "text/plain": [
       "<Figure size 432x288 with 1 Axes>"
      ]
     },
     "metadata": {
      "needs_background": "light"
     },
     "output_type": "display_data"
    }
   ],
   "source": [
    "from matplotlib import pyplot as plt\n",
    "\n",
    "UB = 1.2*np.max(t_data)\n",
    "LB = 1.2*np.min(t_data)\n",
    "print(UB, LB)\n",
    "\n",
    "# P = 255, round = True\n",
    "test = gray_scale_encoding(\n",
    "    t_data[1174][:512], params={'s':7, 'P':255, 'K':64, 'UB':UB,'LB':LB,'round':True})\n",
    "\n",
    "plt.imshow(test,cmap='jet')\n",
    "plt.show()\n",
    "\n",
    "# P = 1, round = False\n",
    "test = gray_scale_encoding(\n",
    "    t_data[1174][:512], params={'s':7, 'P':1, 'K':64, 'UB':UB,'LB':LB,'round':False})\n",
    "\n",
    "plt.imshow(test,cmap='jet')\n",
    "plt.show()\n",
    "\n",
    "# P = 1, round = True\n",
    "test = gray_scale_encoding(\n",
    "    t_data[111][:512], params={'s':7, 'P':1, 'K':64, 'UB':UB,'LB':LB,'round':True})\n",
    "\n",
    "print(np.max(test))\n",
    "print(np.min(test))\n",
    "\n",
    "plt.imshow(test,cmap='jet')\n",
    "plt.show()"
   ]
  },
  {
   "cell_type": "code",
   "execution_count": null,
   "id": "4bc60f13",
   "metadata": {
    "ExecuteTime": {
     "start_time": "2021-11-17T20:40:11.362Z"
    }
   },
   "outputs": [],
   "source": [
    "import time\n",
    "# turn training data into a sequence of 120 images:\n",
    "K = 64\n",
    "params = {'s':7, 'P':1, 'K':K, 'UB':UB,'LB':LB, 'round': True}\n",
    "gs_t_data = np.zeros((1677, 120, K, K))\n",
    "t0 = time.time()\n",
    "for k in range(594):\n",
    "    for l in range(120):\n",
    "        start = int(512*l)\n",
    "        stop = int(512*(l+1))\n",
    "        gs_t_data[k,l] = gray_scale_encoding(t_data[k][start:stop], params)\n",
    "\n",
    "print('time elapsed is: ', time.time() - t0)\n",
    "\n",
    "np.save('../airbus_data/gs_p1round_t_data.npy', gs_t_data)"
   ]
  },
  {
   "cell_type": "code",
   "execution_count": null,
   "id": "14111293",
   "metadata": {
    "ExecuteTime": {
     "start_time": "2021-11-17T20:40:13.041Z"
    }
   },
   "outputs": [],
   "source": [
    "np.save('../airbus_data/gs_p1round_t_data.npy', gs_t_data)"
   ]
  },
  {
   "cell_type": "code",
   "execution_count": 4,
   "id": "7a96e71b",
   "metadata": {
    "ExecuteTime": {
     "end_time": "2021-11-14T20:13:26.879289Z",
     "start_time": "2021-11-14T20:13:16.267417Z"
    }
   },
   "outputs": [
    {
     "name": "stdout",
     "output_type": "stream",
     "text": [
      "load time is:  10.60139799118042\n"
     ]
    }
   ],
   "source": [
    "load_t0 = time.time()\n",
    "gs_t_data = np.load('../airbus_data/gs_p1_t_data.npy')\n",
    "gs_v_data = np.load('../airbus_data/gs_p1_v_data.npy')\n",
    "print('load time is: ', time.time() - load_t0)"
   ]
  },
  {
   "cell_type": "code",
   "execution_count": null,
   "id": "0062677a",
   "metadata": {
    "ExecuteTime": {
     "end_time": "2021-11-14T20:13:40.422205Z",
     "start_time": "2021-11-14T20:13:40.411234Z"
    }
   },
   "outputs": [],
   "source": []
  },
  {
   "cell_type": "code",
   "execution_count": null,
   "id": "ef8e4fd4",
   "metadata": {
    "ExecuteTime": {
     "end_time": "2021-11-14T18:20:05.884864Z",
     "start_time": "2021-11-14T18:20:05.881074Z"
    }
   },
   "outputs": [],
   "source": []
  },
  {
   "cell_type": "code",
   "execution_count": null,
   "id": "36b090f5",
   "metadata": {
    "ExecuteTime": {
     "end_time": "2021-11-14T18:20:07.367323Z",
     "start_time": "2021-11-14T18:20:07.362955Z"
    }
   },
   "outputs": [],
   "source": []
  },
  {
   "cell_type": "code",
   "execution_count": null,
   "id": "169de7d9",
   "metadata": {
    "ExecuteTime": {
     "end_time": "2021-11-14T20:05:54.308809Z",
     "start_time": "2021-11-14T20:05:54.296385Z"
    }
   },
   "outputs": [],
   "source": []
  },
  {
   "cell_type": "code",
   "execution_count": null,
   "id": "b3f1980b",
   "metadata": {
    "ExecuteTime": {
     "end_time": "2021-11-14T18:20:23.186281Z",
     "start_time": "2021-11-14T18:20:23.120645Z"
    }
   },
   "outputs": [],
   "source": []
  },
  {
   "cell_type": "code",
   "execution_count": null,
   "id": "ade606bc",
   "metadata": {
    "ExecuteTime": {
     "end_time": "2021-11-14T18:20:39.868743Z",
     "start_time": "2021-11-14T18:20:39.407769Z"
    }
   },
   "outputs": [],
   "source": []
  },
  {
   "cell_type": "code",
   "execution_count": null,
   "id": "dd00d43e",
   "metadata": {
    "ExecuteTime": {
     "end_time": "2021-11-14T18:22:32.828875Z",
     "start_time": "2021-11-14T18:22:32.823544Z"
    }
   },
   "outputs": [],
   "source": []
  },
  {
   "cell_type": "markdown",
   "id": "820e8df1",
   "metadata": {},
   "source": [
    " "
   ]
  }
 ],
 "metadata": {
  "kernelspec": {
   "display_name": "Python 3",
   "language": "python",
   "name": "python3"
  },
  "language_info": {
   "codemirror_mode": {
    "name": "ipython",
    "version": 3
   },
   "file_extension": ".py",
   "mimetype": "text/x-python",
   "name": "python",
   "nbconvert_exporter": "python",
   "pygments_lexer": "ipython3",
   "version": "3.9.5"
  },
  "toc": {
   "base_numbering": 1,
   "nav_menu": {},
   "number_sections": true,
   "sideBar": true,
   "skip_h1_title": false,
   "title_cell": "Table of Contents",
   "title_sidebar": "Contents",
   "toc_cell": false,
   "toc_position": {},
   "toc_section_display": true,
   "toc_window_display": false
  }
 },
 "nbformat": 4,
 "nbformat_minor": 5
}
