{
 "cells": [
  {
   "cell_type": "code",
   "execution_count": null,
   "id": "9ff91297",
   "metadata": {
    "ExecuteTime": {
     "end_time": "2021-11-16T23:00:28.465364Z",
     "start_time": "2021-11-16T23:00:02.442458Z"
    },
    "scrolled": true
   },
   "outputs": [],
   "source": []
  },
  {
   "cell_type": "code",
   "execution_count": 171,
   "id": "4b456b26",
   "metadata": {
    "ExecuteTime": {
     "end_time": "2021-11-17T06:09:30.184711Z",
     "start_time": "2021-11-17T06:09:30.161583Z"
    }
   },
   "outputs": [],
   "source": [
    "import numpy as np\n",
    "import tensorflow as tf\n",
    "\n",
    "\n",
    "def get_residual_distribution(model, t_data):\n",
    "\t\"\"\"\n",
    "\tTakes autoencoder and (transformed) training data and computes all residuals \n",
    "\targs: \n",
    "\t\tmodel: keras model for computing reconstructions \n",
    "\t\t(k, m, m, 1) -> (k, m, m, 1)\n",
    "\n",
    "\t\tt_data: numpy array of transformed training data with shape \n",
    "\t\tnp.shape(t_data) = (N, l, m, m, 1) = (N, 120, 64, 64 ,1)\n",
    "\n",
    "\treturns: residuals, a numpy array of shape (N, l, 1) = (N*120, 1),\n",
    "\t\t     containing residuals Res_k = ||x_or - x_rc||_2\n",
    "\t\"\"\"\n",
    "\n",
    "\tN = np.shape(t_data)[0]\n",
    "\tl = 120\n",
    "\tm = 64\n",
    "\n",
    "\tresiduals = np.zeros((N*l,1))\n",
    "\tall_t_images = np.reshape(t_data, (N*l, 64, 64, 1))\n",
    "\trc = model.predict(all_t_images)\n",
    "\n",
    "\tresiduals = np.linalg.norm(all_t_images - rc, axis = (1,2))\n",
    "\n",
    "\treturn residuals\n",
    "\n",
    "def classify_ts_residuals(model, data, q99):\n",
    "\t\"\"\" data should shape (N, l, m, m, 1) = (N, 120, 64, 64 ,1)\n",
    "\t# model should be autoencoder (m, m, 1) -> (m, m, 1)\n",
    "\treturns residuals: np array of shape (N, l, 1) = (N, 120, 1)\n",
    "\t\t\tcontaining residual of each reconstruction in the series\n",
    "\t\t\tanomalous: binary array which is 0 if the max residual\n",
    "\t\t\tis below the 99th percentile, and 1 otherwise.\n",
    "\t\"\"\"\n",
    "\tN = np.shape(data)[0]\n",
    "\tl = 120\n",
    "\tm = 64\n",
    "\tresiduals = np.zeros((N, l, 1))\n",
    "\tanomalous = np.zeros(N)\n",
    "\t\n",
    "\tfor i in range(N):\n",
    "\t\tseq = data[i]\n",
    "\t\trc = model.predict(seq)\n",
    "\t\t# compute individual residuals in (120, 1) array:\n",
    "\t\tresiduals[i] = np.linalg.norm(np.reshape(seq - rc, (l, m**2, 1)), axis = 1)\n",
    "\n",
    "\t\tif max(residuals[i]) > q99:\n",
    "\t\t\tanomalous[i] = 1\n",
    "\n",
    "\treturn residuals, anomalous\n",
    "\n",
    "def get_residual_distribution_1D(model, t_data):\n",
    "\t\"\"\"\n",
    "\tTakes autoencoder and (transformed) training data and computes all residuals \n",
    "\targs: \n",
    "\t\tmodel: keras model for computing reconstructions \n",
    "\t\t(k, m, 1) -> (k, m, 1)\n",
    "\n",
    "\t\tt_data: numpy array of transformed training data with shape \n",
    "\t\tnp.shape(t_data) = (N, l, m, 1) = (N, 120, 512, 1)\n",
    "\n",
    "\treturns: residuals, a numpy array of shape (N, l, 1) = (N*120, 1),\n",
    "\t\t     containing residuals Res_k = ||x_or - x_rc||_2\n",
    "\t\"\"\"\n",
    "\n",
    "\tN = np.shape(t_data)[0]\n",
    "\tl = 120\n",
    "\tm = 512\n",
    "\n",
    "\tresiduals = np.zeros((N*l,1))\n",
    "\tall_t_images = np.reshape(t_data, (N*l, m, 1))\n",
    "\trc = model.predict(all_t_images)\n",
    "\n",
    "\tresiduals = np.linalg.norm(all_t_images - rc, axis = 1)\n",
    "\n",
    "\treturn residuals\n",
    "\n",
    "def classify_ts_residuals_1D(model, data, q99):\n",
    "\t\"\"\" data should shape (N, l, m, 1) = (N, 120, 512, 1)\n",
    "\t# model should be autoencoder (m, 1) -> (m, 1)\n",
    "\treturns residuals: np array of shape (N, l, 1) = (N, 120, 1)\n",
    "\t\t\tcontaining residual of each reconstruction in the series\n",
    "\t\t\tanomalous: binary array which is 0 if the max residual\n",
    "\t\t\tis below the 99th percentile, and 1 otherwise.\n",
    "\t\"\"\"\n",
    "\tN = np.shape(data)[0]\n",
    "\tl = 120\n",
    "\tm = 512\n",
    "\tresiduals = np.zeros((N, l, 1))\n",
    "\tanomalous = np.zeros(N)\n",
    "\t\n",
    "\tfor i in range(N):\n",
    "\t\tseq = data[i]\n",
    "\t\trc = model.predict(seq)\n",
    "\t\t# compute individual residuals in (120, 1) array:\n",
    "\t\tresiduals[i] = np.linalg.norm(seq-rc, axis = 1)\n",
    "\n",
    "\t\tif max(residuals[i]) > q99:\n",
    "\t\t\tanomalous[i] = 1\n",
    "\n",
    "\treturn residuals, anomalous\n",
    "\n",
    "def main():\n",
    "\n",
    "\t# load 2D CAE\n",
    "\tmodel = tf.keras.models.load_model('tsie_2D_CAE_gs')\n",
    "\n",
    "\t# load training data & construct labels (no anomalous sequences)\n",
    "\tgs_p1_t_data = np.reshape(np.load('../airbus_data/gs_p1_t_data.npy'), (1677, 120, 64, 64, 1))\n",
    "\n",
    "\t# compute reconstructions and residuals\n",
    "\tresiduals = get_residual_distribution(model, gs_p1_t_data)\n",
    "\n",
    "\tq99 = np.percentile(residuals, 99)\n",
    "    \n",
    "\tnp.save('residual_data/gs_p1_t_residuals.npy',residuals)\n",
    "\n",
    "\t# load validation data & construct labels (half normal, half anomalous)\n",
    "\tgs_p1_v_data = np.reshape(np.load('../airbus_data/gs_p1_v_data.npy'), (594, 120, 64, 64, 1))\n",
    "    df = pd.read_csv('../airbus_data/dfvalid_groundtruth.csv')\n",
    "    v_labels = np.array(df['anomaly'])\n",
    "    \n",
    "\tv_residuals, anomalous = classify_ts_residuals(model, gs_p1_v_data, q99)\n",
    "\n",
    "\taccuracy = np.sum(np.abs(anomalous - v_labels))"
   ]
  },
  {
   "cell_type": "code",
   "execution_count": 127,
   "id": "04c88bc1",
   "metadata": {
    "ExecuteTime": {
     "end_time": "2021-11-17T03:31:27.088769Z",
     "start_time": "2021-11-17T03:31:16.553219Z"
    }
   },
   "outputs": [],
   "source": [
    "# load 2D CAE\n",
    "model = tf.keras.models.load_model('tsie_2D_CAE_gs')\n",
    "\n",
    "# load training data & construct labels (no anomalous sequences)\n",
    "gs_p1_t_data = np.reshape(np.load('../airbus_data/gs_p1_t_data.npy'), (1677, 120, 64, 64, 1))"
   ]
  },
  {
   "cell_type": "code",
   "execution_count": 5,
   "id": "09b93c0f",
   "metadata": {
    "ExecuteTime": {
     "end_time": "2021-11-16T23:18:36.276473Z",
     "start_time": "2021-11-16T23:18:36.267486Z"
    }
   },
   "outputs": [],
   "source": [
    "import time"
   ]
  },
  {
   "cell_type": "code",
   "execution_count": 43,
   "id": "127af19a",
   "metadata": {
    "ExecuteTime": {
     "end_time": "2021-11-16T23:59:12.614308Z",
     "start_time": "2021-11-16T23:43:57.599600Z"
    }
   },
   "outputs": [
    {
     "name": "stdout",
     "output_type": "stream",
     "text": [
      "time elapsed is :  914.9418170452118\n"
     ]
    }
   ],
   "source": [
    "# compute reconstructions and residuals\n",
    "t0 = time.time()\n",
    "residuals = get_residual_distribution(model, gs_p1_t_data)\n",
    "print('time elapsed is : ', time.time() - t0)"
   ]
  },
  {
   "cell_type": "code",
   "execution_count": 44,
   "id": "1d488868",
   "metadata": {
    "ExecuteTime": {
     "end_time": "2021-11-17T00:00:41.186146Z",
     "start_time": "2021-11-17T00:00:41.139044Z"
    }
   },
   "outputs": [
    {
     "data": {
      "text/plain": [
       "(201240, 1)"
      ]
     },
     "execution_count": 44,
     "metadata": {},
     "output_type": "execute_result"
    }
   ],
   "source": [
    "np.shape(residuals)"
   ]
  },
  {
   "cell_type": "code",
   "execution_count": 45,
   "id": "2ccd72e6",
   "metadata": {
    "ExecuteTime": {
     "end_time": "2021-11-17T00:00:57.677517Z",
     "start_time": "2021-11-17T00:00:57.661138Z"
    }
   },
   "outputs": [],
   "source": [
    "np.save('residual_data/gs_p1_t_residuals.npy',residuals)"
   ]
  },
  {
   "cell_type": "code",
   "execution_count": 280,
   "id": "5959f951",
   "metadata": {
    "ExecuteTime": {
     "end_time": "2021-11-17T07:00:38.441103Z",
     "start_time": "2021-11-17T07:00:38.428866Z"
    }
   },
   "outputs": [],
   "source": [
    "q99 = np.percentile(residuals, 99)"
   ]
  },
  {
   "cell_type": "code",
   "execution_count": 281,
   "id": "55c71668",
   "metadata": {
    "ExecuteTime": {
     "end_time": "2021-11-17T07:00:39.709887Z",
     "start_time": "2021-11-17T07:00:39.702358Z"
    }
   },
   "outputs": [
    {
     "name": "stdout",
     "output_type": "stream",
     "text": [
      "99th percentile is:  1.5801852684855482\n"
     ]
    }
   ],
   "source": [
    "print('99th percentile is: ', q99)"
   ]
  },
  {
   "cell_type": "code",
   "execution_count": 282,
   "id": "ea628831",
   "metadata": {
    "ExecuteTime": {
     "end_time": "2021-11-17T07:00:45.245729Z",
     "start_time": "2021-11-17T07:00:44.551446Z"
    }
   },
   "outputs": [
    {
     "data": {
      "text/plain": [
       "array([0.01000298])"
      ]
     },
     "execution_count": 282,
     "metadata": {},
     "output_type": "execute_result"
    }
   ],
   "source": [
    "# check to see if this is accurate:\n",
    "sum(residuals > q99)/len(residuals)"
   ]
  },
  {
   "cell_type": "code",
   "execution_count": 50,
   "id": "568c06d9",
   "metadata": {
    "ExecuteTime": {
     "end_time": "2021-11-17T00:09:25.680176Z",
     "start_time": "2021-11-17T00:05:28.766826Z"
    }
   },
   "outputs": [],
   "source": [
    "# now classify validation data via this quantile threshold:\n",
    "gs_p1_v_data = np.reshape(np.load('../airbus_data/gs_p1_v_data.npy'), (594, 120, 64, 64, 1))\n",
    "df = pd.read_csv('../airbus_data/dfvalid_groundtruth.csv')\n",
    "v_labels = np.array(df['anomaly'])\n",
    "v_residuals, anomalous = classify_ts_residuals(model, gs_p1_v_data, q99)"
   ]
  },
  {
   "cell_type": "code",
   "execution_count": 283,
   "id": "3f407ff8",
   "metadata": {
    "ExecuteTime": {
     "end_time": "2021-11-17T07:00:59.118238Z",
     "start_time": "2021-11-17T07:00:59.095018Z"
    }
   },
   "outputs": [
    {
     "name": "stdout",
     "output_type": "stream",
     "text": [
      "accuracy is:  0.7744107744107744\n"
     ]
    }
   ],
   "source": [
    "accuracy = 1 - (np.sum(np.abs(anomalous - v_labels))) / len(v_labels)\n",
    "print('accuracy is: ', accuracy)"
   ]
  },
  {
   "cell_type": "code",
   "execution_count": 284,
   "id": "7a15cec4",
   "metadata": {
    "ExecuteTime": {
     "end_time": "2021-11-17T07:01:01.824662Z",
     "start_time": "2021-11-17T07:01:01.793165Z"
    }
   },
   "outputs": [
    {
     "name": "stdout",
     "output_type": "stream",
     "text": [
      "0.5488215488215489\n",
      "0.0\n"
     ]
    }
   ],
   "source": [
    "TPR = sum((anomalous + v_labels == 2))/297\n",
    "FPR = sum(v_labels - anomalous == -1 )/297\n",
    "print(TPR)\n",
    "print(FPR)"
   ]
  },
  {
   "cell_type": "code",
   "execution_count": null,
   "id": "f0d3eb0f",
   "metadata": {
    "ExecuteTime": {
     "end_time": "2021-11-17T03:32:09.052496Z",
     "start_time": "2021-11-17T03:32:00.103632Z"
    }
   },
   "outputs": [],
   "source": []
  },
  {
   "cell_type": "code",
   "execution_count": 285,
   "id": "02874898",
   "metadata": {
    "ExecuteTime": {
     "end_time": "2021-11-17T07:01:44.587903Z",
     "start_time": "2021-11-17T07:01:32.939619Z"
    }
   },
   "outputs": [],
   "source": [
    "# read in raw data for 1D CAE no decoding baseline\n",
    "import pandas as pd\n",
    "t_data = np.array(np.reshape(np.array(pd.read_hdf('../airbus_data/dftrain.h5')), (1677, 120, 512, 1)))\n",
    "v_data = np.array(np.reshape(np.array(pd.read_hdf('../airbus_data/dfvalid.h5')), (594, 120, 512, 1)))"
   ]
  },
  {
   "cell_type": "code",
   "execution_count": 170,
   "id": "2f0f2e22",
   "metadata": {
    "ExecuteTime": {
     "end_time": "2021-11-17T06:06:32.171400Z",
     "start_time": "2021-11-17T06:06:28.501286Z"
    }
   },
   "outputs": [],
   "source": [
    "CAE_1D = tf.keras.models.load_model('tsie_1D_CAE')"
   ]
  },
  {
   "cell_type": "code",
   "execution_count": 191,
   "id": "9671fd9f",
   "metadata": {
    "ExecuteTime": {
     "end_time": "2021-11-17T06:19:03.500566Z",
     "start_time": "2021-11-17T06:17:03.862831Z"
    }
   },
   "outputs": [
    {
     "name": "stdout",
     "output_type": "stream",
     "text": [
      "time elapsed is :  119.62963581085205\n"
     ]
    }
   ],
   "source": [
    "# compute reconstructions and residuals\n",
    "t0 = time.time()\n",
    "residuals_1D = get_residual_distribution_1D(CAE_1D, t_data)\n",
    "print('time elapsed is : ', time.time() - t0)"
   ]
  },
  {
   "cell_type": "code",
   "execution_count": 192,
   "id": "91c0cfa0",
   "metadata": {
    "ExecuteTime": {
     "end_time": "2021-11-17T06:19:41.908188Z",
     "start_time": "2021-11-17T06:19:41.662051Z"
    }
   },
   "outputs": [
    {
     "data": {
      "text/plain": [
       "[<matplotlib.lines.Line2D at 0x15b9b24c0>]"
      ]
     },
     "execution_count": 192,
     "metadata": {},
     "output_type": "execute_result"
    },
    {
     "data": {
      "image/png": "[encoded data removed]",
      "text/plain": [
       "<Figure size 432x288 with 1 Axes>"
      ]
     },
     "metadata": {
      "needs_background": "light"
     },
     "output_type": "display_data"
    }
   ],
   "source": [
    "plt.plot(residuals_1D)"
   ]
  },
  {
   "cell_type": "code",
   "execution_count": 286,
   "id": "fac3203f",
   "metadata": {
    "ExecuteTime": {
     "end_time": "2021-11-17T07:02:19.239627Z",
     "start_time": "2021-11-17T07:02:19.174452Z"
    }
   },
   "outputs": [
    {
     "name": "stdout",
     "output_type": "stream",
     "text": [
      "99th percentile is:  58.94001822524485\n"
     ]
    }
   ],
   "source": [
    "np.save('residual_data/t_residuals_1D.npy',residuals_1D)\n",
    "q99_1D = np.percentile(residuals_1D, 99)\n",
    "print('99th percentile is: ', q99_1D)"
   ]
  },
  {
   "cell_type": "code",
   "execution_count": 287,
   "id": "11dcc5ae",
   "metadata": {
    "ExecuteTime": {
     "end_time": "2021-11-17T07:02:35.042004Z",
     "start_time": "2021-11-17T07:02:35.027105Z"
    }
   },
   "outputs": [
    {
     "name": "stdout",
     "output_type": "stream",
     "text": [
      "accuracy is:  0.8400673400673401\n"
     ]
    }
   ],
   "source": [
    "# now classify validation data via this quantile threshold:\n",
    "# df = pd.read_csv('../airbus_data/dfvalid_groundtruth.csv')\n",
    "# v_labels = np.array(df['anomaly'])\n",
    "\n",
    "# v_residuals_1D, anomalous_1D = classify_ts_residuals_1D(CAE_1D, v_data, q99_1D)\n",
    "\n",
    "accuracy_1D = 1 - (np.sum(np.abs(anomalous_1D - v_labels))) / len(v_labels)\n",
    "print('accuracy is: ', accuracy_1D)"
   ]
  },
  {
   "cell_type": "code",
   "execution_count": 288,
   "id": "33a0f143",
   "metadata": {
    "ExecuteTime": {
     "end_time": "2021-11-17T07:02:37.271806Z",
     "start_time": "2021-11-17T07:02:37.256584Z"
    }
   },
   "outputs": [
    {
     "name": "stdout",
     "output_type": "stream",
     "text": [
      "TPR is:  0.6801346801346801\n",
      "FPR is:  0.0\n"
     ]
    }
   ],
   "source": [
    "TPR_1D = sum(anomalous_1D + v_labels == 2)/297\n",
    "FPR_1D = sum(v_labels - anomalous_1D == -1)/297\n",
    "\n",
    "print('TPR is: ', TPR_1D)\n",
    "print('FPR is: ', FPR_1D)"
   ]
  },
  {
   "cell_type": "code",
   "execution_count": null,
   "id": "a9b5de81",
   "metadata": {
    "ExecuteTime": {
     "end_time": "2021-11-17T07:02:47.092656Z",
     "start_time": "2021-11-17T07:02:47.070199Z"
    }
   },
   "outputs": [],
   "source": []
  },
  {
   "cell_type": "code",
   "execution_count": null,
   "id": "ca09659c",
   "metadata": {
    "ExecuteTime": {
     "end_time": "2021-11-17T06:14:10.279663Z",
     "start_time": "2021-11-17T06:14:09.725229Z"
    }
   },
   "outputs": [],
   "source": []
  },
  {
   "cell_type": "code",
   "execution_count": null,
   "id": "e2e5625e",
   "metadata": {
    "ExecuteTime": {
     "end_time": "2021-11-17T06:16:32.394878Z",
     "start_time": "2021-11-17T06:16:31.880504Z"
    }
   },
   "outputs": [],
   "source": []
  },
  {
   "cell_type": "code",
   "execution_count": null,
   "id": "dc85640b",
   "metadata": {
    "ExecuteTime": {
     "end_time": "2021-11-17T06:40:46.205381Z",
     "start_time": "2021-11-17T06:40:46.102470Z"
    }
   },
   "outputs": [],
   "source": []
  },
  {
   "cell_type": "code",
   "execution_count": 255,
   "id": "bb29e4a0",
   "metadata": {
    "ExecuteTime": {
     "end_time": "2021-11-17T06:44:10.768212Z",
     "start_time": "2021-11-17T06:44:10.763194Z"
    }
   },
   "outputs": [],
   "source": []
  },
  {
   "cell_type": "code",
   "execution_count": 257,
   "id": "b00dfb96",
   "metadata": {
    "ExecuteTime": {
     "end_time": "2021-11-17T06:44:33.319556Z",
     "start_time": "2021-11-17T06:44:33.316746Z"
    }
   },
   "outputs": [],
   "source": []
  },
  {
   "cell_type": "code",
   "execution_count": null,
   "id": "5faf9f1e",
   "metadata": {
    "ExecuteTime": {
     "end_time": "2021-11-17T06:44:35.666643Z",
     "start_time": "2021-11-17T06:44:35.658533Z"
    }
   },
   "outputs": [],
   "source": []
  },
  {
   "cell_type": "code",
   "execution_count": null,
   "id": "a800e4e8",
   "metadata": {},
   "outputs": [],
   "source": []
  }
 ],
 "metadata": {
  "kernelspec": {
   "display_name": "Python 3",
   "language": "python",
   "name": "python3"
  },
  "language_info": {
   "codemirror_mode": {
    "name": "ipython",
    "version": 3
   },
   "file_extension": ".py",
   "mimetype": "text/x-python",
   "name": "python",
   "nbconvert_exporter": "python",
   "pygments_lexer": "ipython3",
   "version": "3.9.5"
  },
  "toc": {
   "base_numbering": 1,
   "nav_menu": {},
   "number_sections": true,
   "sideBar": true,
   "skip_h1_title": false,
   "title_cell": "Table of Contents",
   "title_sidebar": "Contents",
   "toc_cell": false,
   "toc_position": {},
   "toc_section_display": true,
   "toc_window_display": false
  }
 },
 "nbformat": 4,
 "nbformat_minor": 5
}
